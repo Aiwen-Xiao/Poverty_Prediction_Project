{
 "cells": [
  {
   "cell_type": "markdown",
   "metadata": {},
   "source": [
    "## Satellite Image Collection\n",
    "- Summary: In this part, I'm going to download corresponding satellite images of each census tract through mapbox API. For each census tract, we randomly sample 10 images with each image covering an area of 50m * 50m. In the follow step, we are going to use these collected image to calculate the average house density of each census tract.\n",
    "- Parallel strategy: To parallel this collection process, we use AWS lambda and step function to subdivide the work into 50 batches. And then we store the collected image into s3 bucket for following steps."
   ]
  },
  {
   "cell_type": "markdown",
   "metadata": {},
   "source": [
    "1. randomly sample 10 points within each census tract"
   ]
  },
  {
   "cell_type": "code",
   "execution_count": 2,
   "metadata": {},
   "outputs": [],
   "source": [
    "import geopandas as gpd"
   ]
  },
  {
   "cell_type": "code",
   "execution_count": 3,
   "metadata": {},
   "outputs": [],
   "source": [
    "# read the shape file of census tract\n",
    "shp = gpd.read_file(\"data/boundaries/Boundaries - Census Tracts - 2010/geo_export_e157c189-cb89-47dd-97ed-50066e7f7496.shp\")"
   ]
  },
  {
   "cell_type": "code",
   "execution_count": 4,
   "metadata": {},
   "outputs": [
    {
     "data": {
      "text/html": [
       "<div>\n",
       "<style scoped>\n",
       "    .dataframe tbody tr th:only-of-type {\n",
       "        vertical-align: middle;\n",
       "    }\n",
       "\n",
       "    .dataframe tbody tr th {\n",
       "        vertical-align: top;\n",
       "    }\n",
       "\n",
       "    .dataframe thead th {\n",
       "        text-align: right;\n",
       "    }\n",
       "</style>\n",
       "<table border=\"1\" class=\"dataframe\">\n",
       "  <thead>\n",
       "    <tr style=\"text-align: right;\">\n",
       "      <th></th>\n",
       "      <th>commarea</th>\n",
       "      <th>commarea_n</th>\n",
       "      <th>countyfp10</th>\n",
       "      <th>geoid10</th>\n",
       "      <th>name10</th>\n",
       "      <th>namelsad10</th>\n",
       "      <th>notes</th>\n",
       "      <th>statefp10</th>\n",
       "      <th>tractce10</th>\n",
       "      <th>geometry</th>\n",
       "    </tr>\n",
       "  </thead>\n",
       "  <tbody>\n",
       "    <tr>\n",
       "      <th>0</th>\n",
       "      <td>44</td>\n",
       "      <td>44.0</td>\n",
       "      <td>031</td>\n",
       "      <td>17031842400</td>\n",
       "      <td>8424</td>\n",
       "      <td>Census Tract 8424</td>\n",
       "      <td>NaN</td>\n",
       "      <td>17</td>\n",
       "      <td>842400</td>\n",
       "      <td>POLYGON ((-87.62405 41.73022, -87.62405 41.730...</td>\n",
       "    </tr>\n",
       "    <tr>\n",
       "      <th>1</th>\n",
       "      <td>59</td>\n",
       "      <td>59.0</td>\n",
       "      <td>031</td>\n",
       "      <td>17031840300</td>\n",
       "      <td>8403</td>\n",
       "      <td>Census Tract 8403</td>\n",
       "      <td>NaN</td>\n",
       "      <td>17</td>\n",
       "      <td>840300</td>\n",
       "      <td>POLYGON ((-87.68608 41.82296, -87.68607 41.823...</td>\n",
       "    </tr>\n",
       "    <tr>\n",
       "      <th>2</th>\n",
       "      <td>34</td>\n",
       "      <td>34.0</td>\n",
       "      <td>031</td>\n",
       "      <td>17031841100</td>\n",
       "      <td>8411</td>\n",
       "      <td>Census Tract 8411</td>\n",
       "      <td>NaN</td>\n",
       "      <td>17</td>\n",
       "      <td>841100</td>\n",
       "      <td>POLYGON ((-87.62935 41.85280, -87.62934 41.852...</td>\n",
       "    </tr>\n",
       "    <tr>\n",
       "      <th>3</th>\n",
       "      <td>31</td>\n",
       "      <td>31.0</td>\n",
       "      <td>031</td>\n",
       "      <td>17031841200</td>\n",
       "      <td>8412</td>\n",
       "      <td>Census Tract 8412</td>\n",
       "      <td>NaN</td>\n",
       "      <td>17</td>\n",
       "      <td>841200</td>\n",
       "      <td>POLYGON ((-87.68813 41.85569, -87.68816 41.856...</td>\n",
       "    </tr>\n",
       "    <tr>\n",
       "      <th>4</th>\n",
       "      <td>32</td>\n",
       "      <td>32.0</td>\n",
       "      <td>031</td>\n",
       "      <td>17031839000</td>\n",
       "      <td>8390</td>\n",
       "      <td>Census Tract 8390</td>\n",
       "      <td>NaN</td>\n",
       "      <td>17</td>\n",
       "      <td>839000</td>\n",
       "      <td>POLYGON ((-87.63312 41.87449, -87.63306 41.874...</td>\n",
       "    </tr>\n",
       "  </tbody>\n",
       "</table>\n",
       "</div>"
      ],
      "text/plain": [
       "  commarea  commarea_n countyfp10      geoid10 name10         namelsad10  \\\n",
       "0       44        44.0        031  17031842400   8424  Census Tract 8424   \n",
       "1       59        59.0        031  17031840300   8403  Census Tract 8403   \n",
       "2       34        34.0        031  17031841100   8411  Census Tract 8411   \n",
       "3       31        31.0        031  17031841200   8412  Census Tract 8412   \n",
       "4       32        32.0        031  17031839000   8390  Census Tract 8390   \n",
       "\n",
       "  notes statefp10 tractce10                                           geometry  \n",
       "0   NaN        17    842400  POLYGON ((-87.62405 41.73022, -87.62405 41.730...  \n",
       "1   NaN        17    840300  POLYGON ((-87.68608 41.82296, -87.68607 41.823...  \n",
       "2   NaN        17    841100  POLYGON ((-87.62935 41.85280, -87.62934 41.852...  \n",
       "3   NaN        17    841200  POLYGON ((-87.68813 41.85569, -87.68816 41.856...  \n",
       "4   NaN        17    839000  POLYGON ((-87.63312 41.87449, -87.63306 41.874...  "
      ]
     },
     "execution_count": 4,
     "metadata": {},
     "output_type": "execute_result"
    }
   ],
   "source": [
    "shp.head(5)"
   ]
  },
  {
   "cell_type": "code",
   "execution_count": 5,
   "metadata": {},
   "outputs": [],
   "source": [
    "# funtion of geting random points within an area\n",
    "import random\n",
    "from shapely.geometry import Point\n",
    "\n",
    "def random_point_within_tract(polygon, num_points):\n",
    "    minx, miny, maxx, maxy = polygon.bounds\n",
    "    random_points = []\n",
    "    while len(random_points) < num_points:\n",
    "        point = Point(random.uniform(minx, maxx), random.uniform(miny, maxy))\n",
    "        if polygon.contains(point):\n",
    "            random_points.append((point.x, point.y))\n",
    "    return random_points"
   ]
  },
  {
   "cell_type": "code",
   "execution_count": 8,
   "metadata": {},
   "outputs": [],
   "source": [
    "# generate point_dict that mappes the points with census tract\n",
    "point_dict = {}\n",
    "for index, row in shp.iterrows():\n",
    "    polygon = row['geometry']\n",
    "    tract_id = row['geoid10']\n",
    "    random_points = random_point_within_tract(polygon, 10)\n",
    "    point_dict[tract_id] = random_points"
   ]
  },
  {
   "cell_type": "code",
   "execution_count": 10,
   "metadata": {},
   "outputs": [
    {
     "data": {
      "text/plain": [
       "[(-87.63207951764853, 41.8674468882685),\n",
       " (-87.63520021621466, 41.870293603007184),\n",
       " (-87.63223583146228, 41.8740454775901),\n",
       " (-87.63240682838804, 41.87138106013676),\n",
       " (-87.63431964303369, 41.87202384395054),\n",
       " (-87.62784487680285, 41.86887605123645),\n",
       " (-87.62879137792132, 41.86833447796616),\n",
       " (-87.63160305511266, 41.87423099069787),\n",
       " (-87.63316905782128, 41.87037330477799),\n",
       " (-87.63322848633837, 41.868337438672825)]"
      ]
     },
     "execution_count": 10,
     "metadata": {},
     "output_type": "execute_result"
    }
   ],
   "source": [
    "point_dict['17031839000']"
   ]
  },
  {
   "cell_type": "code",
   "execution_count": 18,
   "metadata": {},
   "outputs": [
    {
     "name": "stdout",
     "output_type": "stream",
     "text": [
      "('17031842400', [(-87.63123144402078, 41.74966849626187), (-87.63191075061613, 41.735700144424484), (-87.62819662536639, 41.74628108249361), (-87.62778939521435, 41.73772859363239), (-87.62951971266116, 41.738454740450464), (-87.62554271848447, 41.73877773993926), (-87.63128479628858, 41.746245501958725), (-87.62467137316379, 41.74657195405231), (-87.63164422809653, 41.74198321475861), (-87.62522677156231, 41.74475000308879)])\n"
     ]
    }
   ],
   "source": [
    "point_pair_list = list(point_dict.items())\n",
    "print(point_pair_list[0])"
   ]
  },
  {
   "cell_type": "code",
   "execution_count": 19,
   "metadata": {},
   "outputs": [
    {
     "data": {
      "text/plain": [
       "801"
      ]
     },
     "execution_count": 19,
     "metadata": {},
     "output_type": "execute_result"
    }
   ],
   "source": [
    "# length of the point_pair_list\n",
    "len(point_pair_list)"
   ]
  },
  {
   "cell_type": "markdown",
   "metadata": {},
   "source": [
    "2. Create lambda function of collecting corresponding satellite images given the coordintates of the points"
   ]
  },
  {
   "cell_type": "code",
   "execution_count": 11,
   "metadata": {},
   "outputs": [],
   "source": [
    "import boto3"
   ]
  },
  {
   "cell_type": "code",
   "execution_count": 39,
   "metadata": {},
   "outputs": [],
   "source": [
    "# create lambda function\n",
    "aws_lambda = boto3.client('lambda')\n",
    "iam_client = boto3.client('iam')\n",
    "role = iam_client.get_role(RoleName='LabRole')\n",
    "\n",
    "# Open our Zipped directory\n",
    "with open('final-scraping-package.zip', 'rb') as f:\n",
    "    lambda_zip = f.read()\n",
    "\n",
    "try:\n",
    "    # If function hasn't yet been created, create it\n",
    "    response = aws_lambda.create_function(\n",
    "        FunctionName='finalscraping',\n",
    "        Runtime='python3.9',\n",
    "        Role=role['Role']['Arn'],\n",
    "        Handler='lambda_function.lambda_handler',\n",
    "        Code=dict(ZipFile=lambda_zip),\n",
    "        Timeout=800\n",
    "    )\n",
    "except aws_lambda.exceptions.ResourceConflictException:\n",
    "    # If function already exists, update it based on zip\n",
    "    # file contents\n",
    "    response = aws_lambda.update_function_code(\n",
    "    FunctionName='finalscraping',\n",
    "    ZipFile=lambda_zip\n",
    "    )\n",
    "\n",
    "lambda_arn = response['FunctionArn']"
   ]
  },
  {
   "cell_type": "code",
   "execution_count": 40,
   "metadata": {},
   "outputs": [
    {
     "data": {
      "text/plain": [
       "'arn:aws:lambda:us-east-1:990765961068:function:finalscraping'"
      ]
     },
     "execution_count": 40,
     "metadata": {},
     "output_type": "execute_result"
    }
   ],
   "source": [
    "lambda_arn"
   ]
  },
  {
   "cell_type": "code",
   "execution_count": 41,
   "metadata": {},
   "outputs": [],
   "source": [
    "sfn = boto3.client('stepfunctions')\n",
    "\n",
    "def make_def(lambda_arn):\n",
    "    definition = {\n",
    "      \"Comment\": \"My State Machine\",\n",
    "      \"StartAt\": \"Map\",\n",
    "      \"States\": {\n",
    "        \"Map\": {\n",
    "          \"Type\": \"Map\",\n",
    "          \"End\": True,\n",
    "          \"Iterator\": {\n",
    "            \"StartAt\": \"Lambda Invoke\",\n",
    "            \"States\": {\n",
    "              \"Lambda Invoke\": {\n",
    "                \"Type\": \"Task\",\n",
    "                \"Resource\": \"arn:aws:states:::lambda:invoke\",\n",
    "                \"OutputPath\": \"$.Payload\",\n",
    "                \"Parameters\": {\n",
    "                  \"Payload.$\": \"$\",\n",
    "                  \"FunctionName\": lambda_arn\n",
    "                },\n",
    "                \"Retry\": [\n",
    "                  {\n",
    "                    \"ErrorEquals\": [\n",
    "                      \"Lambda.ServiceException\",\n",
    "                      \"Lambda.AWSLambdaException\",\n",
    "                      \"Lambda.SdkClientException\",\n",
    "                      \"Lambda.TooManyRequestsException\",\n",
    "                      \"States.TaskFailed\"\n",
    "                    ],\n",
    "                    \"IntervalSeconds\": 2,\n",
    "                    \"MaxAttempts\": 6,\n",
    "                    \"BackoffRate\": 2\n",
    "                  }\n",
    "                ],\n",
    "                \"End\": True\n",
    "              }\n",
    "            }\n",
    "          }\n",
    "        }\n",
    "      }\n",
    "    }\n",
    "    return definition\n",
    "\n",
    "sf_def = make_def(lambda_arn)"
   ]
  },
  {
   "cell_type": "code",
   "execution_count": 42,
   "metadata": {},
   "outputs": [],
   "source": [
    "# Create step function\n",
    "import json\n",
    "try:\n",
    "    response = sfn.create_state_machine(\n",
    "        name='final',\n",
    "        definition=json.dumps(sf_def),\n",
    "        roleArn=role['Role']['Arn'],\n",
    "        type='EXPRESS'\n",
    "    )\n",
    "except sfn.exceptions.StateMachineAlreadyExists:\n",
    "    response = sfn.list_state_machines()\n",
    "    state_machine_arn = [sm['stateMachineArn'] \n",
    "                         for sm in response['stateMachines'] \n",
    "                         if sm['name'] == 'final'][0]\n",
    "    response = sfn.update_state_machine(\n",
    "        stateMachineArn=state_machine_arn,\n",
    "        definition=json.dumps(sf_def),\n",
    "        roleArn=role['Role']['Arn']\n",
    "    )"
   ]
  },
  {
   "cell_type": "code",
   "execution_count": 21,
   "metadata": {},
   "outputs": [
    {
     "data": {
      "text/plain": [
       "16"
      ]
     },
     "execution_count": 21,
     "metadata": {},
     "output_type": "execute_result"
    }
   ],
   "source": [
    "n = len(point_pair_list) // 50 \n",
    "n"
   ]
  },
  {
   "cell_type": "code",
   "execution_count": 31,
   "metadata": {},
   "outputs": [
    {
     "name": "stdout",
     "output_type": "stream",
     "text": [
      "51 16\n"
     ]
    }
   ],
   "source": [
    "# subdivide the work into 50 equal batches\n",
    "n = len(point_pair_list) // 50 \n",
    "batches = [{'point_map': point_pair_list[i:i + n]} for i in range(0, len(point_pair_list), n)]\n",
    "\n",
    "print(len(batches), len(batches[0]['point_map']))"
   ]
  },
  {
   "cell_type": "code",
   "execution_count": 38,
   "metadata": {},
   "outputs": [
    {
     "data": {
      "text/plain": [
       "[('17031842400',\n",
       "  [(-87.63123144402078, 41.74966849626187),\n",
       "   (-87.63191075061613, 41.735700144424484),\n",
       "   (-87.62819662536639, 41.74628108249361),\n",
       "   (-87.62778939521435, 41.73772859363239),\n",
       "   (-87.62951971266116, 41.738454740450464),\n",
       "   (-87.62554271848447, 41.73877773993926),\n",
       "   (-87.63128479628858, 41.746245501958725),\n",
       "   (-87.62467137316379, 41.74657195405231),\n",
       "   (-87.63164422809653, 41.74198321475861),\n",
       "   (-87.62522677156231, 41.74475000308879)]),\n",
       " ('17031840300',\n",
       "  [(-87.68680065363297, 41.831536409743514),\n",
       "   (-87.68348014608517, 41.83484014997596),\n",
       "   (-87.68365854120312, 41.830744959021686),\n",
       "   (-87.67879457649504, 41.831151669350476),\n",
       "   (-87.68564892937115, 41.83345747669575),\n",
       "   (-87.6825666152255, 41.83538925652648),\n",
       "   (-87.6755234624851, 41.8354968041975),\n",
       "   (-87.67692553205215, 41.83062375578313),\n",
       "   (-87.67829644164131, 41.83095800160686),\n",
       "   (-87.67547550816002, 41.834781442448765)]),\n",
       " ('17031841100',\n",
       "  [(-87.6390604955867, 41.853664572584776),\n",
       "   (-87.63172230624541, 41.856037495003484),\n",
       "   (-87.63089971912979, 41.848981694093766),\n",
       "   (-87.63273821110414, 41.84645201678807),\n",
       "   (-87.63126038459085, 41.84885277607535),\n",
       "   (-87.64062648308604, 41.850312166815876),\n",
       "   (-87.63386872217207, 41.85057688846234),\n",
       "   (-87.63280982685798, 41.85075051156389),\n",
       "   (-87.63539697677676, 41.84694186190093),\n",
       "   (-87.6300858103517, 41.847586014930215)]),\n",
       " ('17031841200',\n",
       "  [(-87.68212926435466, 41.854848403942015),\n",
       "   (-87.68752714151465, 41.855603069029),\n",
       "   (-87.68703005359555, 41.858970141613945),\n",
       "   (-87.68690371870554, 41.85412460403896),\n",
       "   (-87.67890090876652, 41.85340099218855),\n",
       "   (-87.68386927861478, 41.85215036485487),\n",
       "   (-87.67851169051436, 41.85445511638715),\n",
       "   (-87.68027666702712, 41.85788225371402),\n",
       "   (-87.67853873811373, 41.853114358904676),\n",
       "   (-87.67941412638677, 41.854847256800625)]),\n",
       " ('17031839000',\n",
       "  [(-87.63207951764853, 41.8674468882685),\n",
       "   (-87.63520021621466, 41.870293603007184),\n",
       "   (-87.63223583146228, 41.8740454775901),\n",
       "   (-87.63240682838804, 41.87138106013676),\n",
       "   (-87.63431964303369, 41.87202384395054),\n",
       "   (-87.62784487680285, 41.86887605123645),\n",
       "   (-87.62879137792132, 41.86833447796616),\n",
       "   (-87.63160305511266, 41.87423099069787),\n",
       "   (-87.63316905782128, 41.87037330477799),\n",
       "   (-87.63322848633837, 41.868337438672825)]),\n",
       " ('17031838200',\n",
       "  [(-87.66777835167574, 41.86969310376751),\n",
       "   (-87.6702611785688, 41.87031607220927),\n",
       "   (-87.67326119881444, 41.86728659858734),\n",
       "   (-87.68114371266518, 41.86851775563726),\n",
       "   (-87.67190215559116, 41.86808666613289),\n",
       "   (-87.66728367638733, 41.87267821165711),\n",
       "   (-87.67362529272161, 41.8737919109303),\n",
       "   (-87.68324244330336, 41.8710047983829),\n",
       "   (-87.66805987235577, 41.87396194112107),\n",
       "   (-87.67107184122118, 41.86731505803496)]),\n",
       " ('17031650301',\n",
       "  [(-87.72345157302408, 41.777540009442966),\n",
       "   (-87.72759624675028, 41.77617238846029),\n",
       "   (-87.73432497660512, 41.77402170766207),\n",
       "   (-87.73049331684217, 41.77263567314399),\n",
       "   (-87.73573818771321, 41.775251507617654),\n",
       "   (-87.72950356404745, 41.77552477513279),\n",
       "   (-87.7238538876606, 41.77339666848846),\n",
       "   (-87.72381637453005, 41.776989766038845),\n",
       "   (-87.72638492118492, 41.7772985093336),\n",
       "   (-87.72480167650815, 41.77572579482531)]),\n",
       " ('17031530503',\n",
       "  [(-87.63816164816785, 41.65819062490881),\n",
       "   (-87.64022386802759, 41.66720858303093),\n",
       "   (-87.63196531625734, 41.6582074442103),\n",
       "   (-87.63724514113534, 41.65944298200092),\n",
       "   (-87.63958956970276, 41.66579305894674),\n",
       "   (-87.62976630360772, 41.66825762006028),\n",
       "   (-87.63500365438503, 41.66010562261164),\n",
       "   (-87.63314384079226, 41.66574806975365),\n",
       "   (-87.64034538893925, 41.662277552623785),\n",
       "   (-87.63422613340754, 41.66420231414191)]),\n",
       " ('17031760803',\n",
       "  [(-87.84230443185874, 41.97683470985385),\n",
       "   (-87.84906262807831, 41.97967241623363),\n",
       "   (-87.85066963904089, 41.9800129722361),\n",
       "   (-87.85127582395265, 41.97816673539704),\n",
       "   (-87.8412730841454, 41.97161608775384),\n",
       "   (-87.84772174499643, 41.977729985595936),\n",
       "   (-87.84440385210749, 41.97497242813692),\n",
       "   (-87.83828441121189, 41.97586642647664),\n",
       "   (-87.8514613448283, 41.977382794477485),\n",
       "   (-87.84654744363279, 41.97430669820632)]),\n",
       " ('17031030601',\n",
       "  [(-87.65003117210263, 41.98968586949275),\n",
       "   (-87.65940859057258, 41.98787312395872),\n",
       "   (-87.65919325709137, 41.98833881663114),\n",
       "   (-87.65996913141007, 41.987286950744206),\n",
       "   (-87.66023242421444, 41.988934927093545),\n",
       "   (-87.6565683576073, 41.989674564664526),\n",
       "   (-87.65751307861694, 41.98801671450615),\n",
       "   (-87.6551797599747, 41.988541079342156),\n",
       "   (-87.65411321624, 41.98909889901307),\n",
       "   (-87.65469029734817, 41.98832107462145)]),\n",
       " ('17031030604',\n",
       "  [(-87.65382096796442, 41.98753435005425),\n",
       "   (-87.65415016383619, 41.98420804973056),\n",
       "   (-87.65566028703037, 41.986380498762074),\n",
       "   (-87.65447244147978, 41.98454152339056),\n",
       "   (-87.6503269299213, 41.98633151640201),\n",
       "   (-87.65438727166094, 41.986793678172326),\n",
       "   (-87.65057397348332, 41.98703369533499),\n",
       "   (-87.651214895418, 41.98690232885576),\n",
       "   (-87.6553278254213, 41.98439081710382),\n",
       "   (-87.65553506418324, 41.98417773745764)]),\n",
       " ('17031020801',\n",
       "  [(-87.69890418552555, 41.98744527336441),\n",
       "   (-87.6970469169034, 41.984290390081746),\n",
       "   (-87.69240901807474, 41.9834620069492),\n",
       "   (-87.69457987384526, 41.98750533072028),\n",
       "   (-87.69236918001414, 41.98508106612224),\n",
       "   (-87.69206354788743, 41.988505912606826),\n",
       "   (-87.69751671516535, 41.98614842976526),\n",
       "   (-87.6982860790184, 41.98890229492747),\n",
       "   (-87.68981041972158, 41.98780964574616),\n",
       "   (-87.695276231564, 41.99027339338328)]),\n",
       " ('17031540102',\n",
       "  [(-87.60864196726187, 41.66419687450383),\n",
       "   (-87.60985990157228, 41.673719799388564),\n",
       "   (-87.60692104789565, 41.668036418000646),\n",
       "   (-87.60950272630328, 41.664639664290775),\n",
       "   (-87.61141434093565, 41.65209881107959),\n",
       "   (-87.60903192859216, 41.659227006866516),\n",
       "   (-87.60657463727603, 41.676876683906706),\n",
       "   (-87.6055498735722, 41.66069040289711),\n",
       "   (-87.6101549105013, 41.673507196542594),\n",
       "   (-87.61403142886884, 41.66358237543311)]),\n",
       " ('17031843300',\n",
       "  [(-87.69135366791248, 41.860157513008225),\n",
       "   (-87.69523701071438, 41.861896143597946),\n",
       "   (-87.69457675084185, 41.867210200941486),\n",
       "   (-87.69402521598131, 41.86285467070014),\n",
       "   (-87.69099465696952, 41.86403798465005),\n",
       "   (-87.69058082099565, 41.8617529524974),\n",
       "   (-87.69147529305776, 41.86147582290307),\n",
       "   (-87.69571939133095, 41.868621408774544),\n",
       "   (-87.69244512991787, 41.861449014029574),\n",
       "   (-87.69350091412417, 41.86020612115255)]),\n",
       " ('17031540101',\n",
       "  [(-87.585924767653, 41.64777717105816),\n",
       "   (-87.6156163707704, 41.64853044451352),\n",
       "   (-87.59833850136533, 41.6467340917796),\n",
       "   (-87.60860547526124, 41.64973546503887),\n",
       "   (-87.61809996086593, 41.65072041126178),\n",
       "   (-87.60659874227353, 41.65140902977042),\n",
       "   (-87.60839221404557, 41.645777488939856),\n",
       "   (-87.60412588649048, 41.64947207955232),\n",
       "   (-87.59745299529531, 41.65218950836321),\n",
       "   (-87.59010881998607, 41.645362658579565)]),\n",
       " ('17031440201',\n",
       "  [(-87.60725956197037, 41.750592474319824),\n",
       "   (-87.6082482390476, 41.751030972056185),\n",
       "   (-87.61271749150124, 41.750885951186866),\n",
       "   (-87.61424817395141, 41.74994629012202),\n",
       "   (-87.60981217563408, 41.75041680736538),\n",
       "   (-87.61109637283052, 41.746397101020925),\n",
       "   (-87.60905137364772, 41.74623113875345),\n",
       "   (-87.61093018928032, 41.747793390818224),\n",
       "   (-87.60890650745212, 41.746277980670676),\n",
       "   (-87.61260587330847, 41.750531787487624)])]"
      ]
     },
     "execution_count": 38,
     "metadata": {},
     "output_type": "execute_result"
    }
   ],
   "source": [
    "batches[0]['point_map']"
   ]
  },
  {
   "cell_type": "code",
   "execution_count": null,
   "metadata": {},
   "outputs": [],
   "source": [
    "import time\n",
    "# Get arn for Step Function state machine\n",
    "response = sfn.list_state_machines()\n",
    "state_machine_arn = [sm['stateMachineArn']\n",
    "                     for sm in response['stateMachines'] \n",
    "                     if sm['name'] == 'final'][0]\n",
    "\n",
    "# Spread batches across Lambda workers\n",
    "start = time.time()\n",
    "response = sfn.start_sync_execution(\n",
    "    stateMachineArn=state_machine_arn,\n",
    "    name='final',\n",
    "    input=json.dumps(batches)\n",
    ")\n",
    "time_elapsed = time.time() - start"
   ]
  },
  {
   "cell_type": "code",
   "execution_count": 44,
   "metadata": {},
   "outputs": [],
   "source": [
    "import time\n",
    "# Get arn for Step Function state machine\n",
    "response = sfn.list_state_machines()\n",
    "state_machine_arn = [sm['stateMachineArn']\n",
    "                     for sm in response['stateMachines'] \n",
    "                     if sm['name'] == 'final'][0]\n",
    "\n",
    "# Spread batches across Lambda workers\n",
    "start = time.time()\n",
    "response = sfn.start_sync_execution(\n",
    "    stateMachineArn=state_machine_arn,\n",
    "    name='final',\n",
    "    input=json.dumps(batches)\n",
    ")\n",
    "time_elapsed = time.time() - start"
   ]
  },
  {
   "cell_type": "code",
   "execution_count": 46,
   "metadata": {},
   "outputs": [
    {
     "name": "stdout",
     "output_type": "stream",
     "text": [
      "74.87236475944519\n"
     ]
    }
   ],
   "source": [
    "print(time_elapsed)"
   ]
  }
 ],
 "metadata": {
  "kernelspec": {
   "display_name": "Python 3.9.12 ('base')",
   "language": "python",
   "name": "python3"
  },
  "language_info": {
   "codemirror_mode": {
    "name": "ipython",
    "version": 3
   },
   "file_extension": ".py",
   "mimetype": "text/x-python",
   "name": "python",
   "nbconvert_exporter": "python",
   "pygments_lexer": "ipython3",
   "version": "3.9.12"
  },
  "orig_nbformat": 4,
  "vscode": {
   "interpreter": {
    "hash": "91b07395aba9a57da6011e6ac6e49368a9538b86e222ae3ca3786dff42caf6f2"
   }
  }
 },
 "nbformat": 4,
 "nbformat_minor": 2
}
