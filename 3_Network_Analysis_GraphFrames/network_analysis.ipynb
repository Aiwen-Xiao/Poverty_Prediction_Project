{
 "cells": [
  {
   "cell_type": "markdown",
   "metadata": {},
   "source": [
    "## Network Analysis on Bikeshare trips in 2021\n",
    " - Data processing: perform geo join on original trip data to map start and end point with census tract\n",
    " - Network Anlaysis: use GraphFrames in PySpark on EMR cluster to construct network upon 5M+ trip data. Extract node statistics features"
   ]
  },
  {
   "cell_type": "markdown",
   "metadata": {},
   "source": [
    "**1. Data preprocessing**"
   ]
  },
  {
   "cell_type": "code",
   "execution_count": null,
   "id": "3eebe8a7",
   "metadata": {},
   "outputs": [],
   "source": [
    "import pandas as pd\n",
    "import censusgeocode as cg\n",
    "import geopandas as gpd\n",
    "from shapely.geometry import Point\n",
    "import time"
   ]
  },
  {
   "cell_type": "code",
   "execution_count": null,
   "id": "6ce9da63",
   "metadata": {},
   "outputs": [],
   "source": [
    "trips_21 = pd.read_csv('data/Divvy_Trips_2021.csv')\n",
    "# Load census tract shapefile\n",
    "census_tracts = gpd.read_file('data/boundaries/Boundaries - Census Tracts - 2010/geo_export_e157c189-cb89-47dd-97ed-50066e7f7496.shp')"
   ]
  },
  {
   "cell_type": "code",
   "execution_count": null,
   "metadata": {},
   "outputs": [],
   "source": [
    "# Spatial join for start points\n",
    "start_time = time.time()\n",
    "start_points = gpd.GeoDataFrame(trips_21, geometry=gpd.points_from_xy(trips_21['start_lng'], trips_21['start_lat']))\n",
    "start_result = gpd.sjoin(start_points, census_tracts, op='within')\n",
    "start_result = start_result.rename(columns={'geoid10': 'start_geoid10'})\n",
    "print(f\"Elapsed time: {time.time()-start_time: .2f} seconds\")"
   ]
  },
  {
   "cell_type": "code",
   "execution_count": null,
   "metadata": {},
   "outputs": [],
   "source": [
    "result = start_result[['ride_id', 'rideable_type', 'started_at', 'ended_at',\n",
    "       'start_station_name', 'start_station_id', 'end_station_name',\n",
    "       'end_station_id', 'start_lat', 'start_lng', 'end_lat', 'end_lng',\n",
    "       'member_casual', 'start_geoid10']]"
   ]
  },
  {
   "cell_type": "code",
   "execution_count": null,
   "metadata": {},
   "outputs": [],
   "source": [
    "# Spatial join for end points\n",
    "start_time = time.time()\n",
    "end_points = gpd.GeoDataFrame(result, geometry=gpd.points_from_xy(result['end_lng'], result['end_lat']))\n",
    "result = gpd.sjoin(end_points, census_tracts, op='within')\n",
    "result = result.rename(columns={'geoid10': 'end_geoid10'})\n",
    "print(f\"Elapsed time: {time.time()-start_time: .2f} seconds\")"
   ]
  },
  {
   "cell_type": "code",
   "execution_count": null,
   "metadata": {},
   "outputs": [],
   "source": [
    "edges = result[['start_geoid10', 'end_geoid10']]"
   ]
  },
  {
   "cell_type": "markdown",
   "metadata": {},
   "source": [
    "**2. Construct network using GraphFrames**"
   ]
  },
  {
   "cell_type": "code",
   "execution_count": 1,
   "metadata": {},
   "outputs": [
    {
     "data": {
      "text/html": [
       "Current session configs: <tt>{'conf': {'spark.jars.packages': 'graphframes:graphframes:0.8.1-spark3.0-s_2.12', 'spark.jars.repositories': 'https://repos.spark-packages.org/', 'spark.pyspark.python': 'python3', 'spark.pyspark.virtualenv.enabled': 'true', 'spark.pyspark.virtualenv.type': 'native', 'spark.pyspark.virtualenv.bin.path': '/usr/bin/virtualenv'}, 'proxyUser': 'jovyan', 'kind': 'pyspark'}</tt><br>"
      ],
      "text/plain": [
       "<IPython.core.display.HTML object>"
      ]
     },
     "metadata": {},
     "output_type": "display_data"
    },
    {
     "data": {
      "text/html": [
       "No active sessions."
      ],
      "text/plain": [
       "<IPython.core.display.HTML object>"
      ]
     },
     "metadata": {},
     "output_type": "display_data"
    }
   ],
   "source": [
    "%%configure -f\n",
    "{\n",
    "    \"conf\": {\n",
    "        \"spark.jars.packages\": \"graphframes:graphframes:0.8.1-spark3.0-s_2.12\",\n",
    "        \"spark.jars.repositories\": \"https://repos.spark-packages.org/\",\n",
    "        \"spark.pyspark.python\": \"python3\",\n",
    "        \"spark.pyspark.virtualenv.enabled\": \"true\",\n",
    "        \"spark.pyspark.virtualenv.type\":\"native\",\n",
    "        \"spark.pyspark.virtualenv.bin.path\":\"/usr/bin/virtualenv\"\n",
    "    }\n",
    "}"
   ]
  },
  {
   "cell_type": "code",
   "execution_count": 2,
   "metadata": {},
   "outputs": [
    {
     "name": "stdout",
     "output_type": "stream",
     "text": [
      "Starting Spark application\n"
     ]
    },
    {
     "data": {
      "text/html": [
       "<table>\n",
       "<tr><th>ID</th><th>YARN Application ID</th><th>Kind</th><th>State</th><th>Spark UI</th><th>Driver log</th><th>Current session?</th></tr><tr><td>0</td><td>application_1685053987239_0002</td><td>pyspark</td><td>idle</td><td><a target=\"_blank\" href=\"http://ip-172-31-27-69.ec2.internal:20888/proxy/application_1685053987239_0002/\">Link</a></td><td><a target=\"_blank\" href=\"http://ip-172-31-20-3.ec2.internal:8042/node/containerlogs/container_1685053987239_0002_01_000001/livy\">Link</a></td><td>✔</td></tr></table>"
      ],
      "text/plain": [
       "<IPython.core.display.HTML object>"
      ]
     },
     "metadata": {},
     "output_type": "display_data"
    },
    {
     "data": {
      "application/vnd.jupyter.widget-view+json": {
       "model_id": "",
       "version_major": 2,
       "version_minor": 0
      },
      "text/plain": [
       "FloatProgress(value=0.0, bar_style='info', description='Progress:', layout=Layout(height='25px', width='50%'),…"
      ]
     },
     "metadata": {},
     "output_type": "display_data"
    },
    {
     "name": "stdout",
     "output_type": "stream",
     "text": [
      "SparkSession available as 'spark'.\n"
     ]
    },
    {
     "data": {
      "application/vnd.jupyter.widget-view+json": {
       "model_id": "",
       "version_major": 2,
       "version_minor": 0
      },
      "text/plain": [
       "FloatProgress(value=0.0, bar_style='info', description='Progress:', layout=Layout(height='25px', width='50%'),…"
      ]
     },
     "metadata": {},
     "output_type": "display_data"
    },
    {
     "name": "stdout",
     "output_type": "stream",
     "text": [
      "Collecting graphframes\n",
      "  Downloading https://files.pythonhosted.org/packages/0b/27/c7c7e1ced2fe9a905f865dd91faaec2ac8a8e313f511678c8ec92a41a153/graphframes-0.6-py2.py3-none-any.whl\n",
      "Requirement already satisfied: numpy in /usr/local/lib64/python3.7/site-packages (from graphframes)\n",
      "Requirement already satisfied: nose in /usr/local/lib/python3.7/site-packages (from graphframes)\n",
      "Installing collected packages: graphframes\n",
      "Successfully installed graphframes-0.6"
     ]
    }
   ],
   "source": [
    "sc.install_pypi_package('graphframes')"
   ]
  },
  {
   "cell_type": "code",
   "execution_count": 3,
   "metadata": {},
   "outputs": [
    {
     "data": {
      "application/vnd.jupyter.widget-view+json": {
       "model_id": "",
       "version_major": 2,
       "version_minor": 0
      },
      "text/plain": [
       "FloatProgress(value=0.0, bar_style='info', description='Progress:', layout=Layout(height='25px', width='50%'),…"
      ]
     },
     "metadata": {},
     "output_type": "display_data"
    }
   ],
   "source": [
    "from graphframes import *"
   ]
  },
  {
   "cell_type": "code",
   "execution_count": 26,
   "metadata": {},
   "outputs": [
    {
     "data": {
      "application/vnd.jupyter.widget-view+json": {
       "model_id": "",
       "version_major": 2,
       "version_minor": 0
      },
      "text/plain": [
       "FloatProgress(value=0.0, bar_style='info', description='Progress:', layout=Layout(height='25px', width='50%'),…"
      ]
     },
     "metadata": {},
     "output_type": "display_data"
    }
   ],
   "source": [
    "# read in the nodes, each node represents a start or end point\n",
    "nodes = spark.read.csv('s3://a3q2aiwenbucket/jupyter/jovyan/nodes_with_income.csv', header = True)"
   ]
  },
  {
   "cell_type": "code",
   "execution_count": 14,
   "metadata": {},
   "outputs": [
    {
     "data": {
      "application/vnd.jupyter.widget-view+json": {
       "model_id": "",
       "version_major": 2,
       "version_minor": 0
      },
      "text/plain": [
       "FloatProgress(value=0.0, bar_style='info', description='Progress:', layout=Layout(height='25px', width='50%'),…"
      ]
     },
     "metadata": {},
     "output_type": "display_data"
    }
   ],
   "source": [
    "# read in the edges, each edge represents a bikeshare trip\n",
    "edges = spark.read.csv('s3://a3q2aiwenbucket/jupyter/jovyan/edges.csv', header = True)"
   ]
  },
  {
   "cell_type": "code",
   "execution_count": 27,
   "metadata": {},
   "outputs": [
    {
     "data": {
      "application/vnd.jupyter.widget-view+json": {
       "model_id": "",
       "version_major": 2,
       "version_minor": 0
      },
      "text/plain": [
       "FloatProgress(value=0.0, bar_style='info', description='Progress:', layout=Layout(height='25px', width='50%'),…"
      ]
     },
     "metadata": {},
     "output_type": "display_data"
    },
    {
     "name": "stdout",
     "output_type": "stream",
     "text": [
      "+---+---------------+------------+\n",
      "|_c0|census_tract_id|income_level|\n",
      "+---+---------------+------------+\n",
      "|  0|    17031842400|      median|\n",
      "|  1|    17031840300|      median|\n",
      "+---+---------------+------------+\n",
      "only showing top 2 rows"
     ]
    }
   ],
   "source": [
    "nodes.show(2)"
   ]
  },
  {
   "cell_type": "code",
   "execution_count": 20,
   "metadata": {},
   "outputs": [
    {
     "data": {
      "application/vnd.jupyter.widget-view+json": {
       "model_id": "",
       "version_major": 2,
       "version_minor": 0
      },
      "text/plain": [
       "FloatProgress(value=0.0, bar_style='info', description='Progress:', layout=Layout(height='25px', width='50%'),…"
      ]
     },
     "metadata": {},
     "output_type": "display_data"
    }
   ],
   "source": [
    "# add one id column on the trip data\n",
    "from pyspark.sql.functions import monotonically_increasing_id\n",
    "edges = edges.withColumn(\"id\", monotonically_increasing_id())"
   ]
  },
  {
   "cell_type": "code",
   "execution_count": 21,
   "metadata": {},
   "outputs": [
    {
     "data": {
      "application/vnd.jupyter.widget-view+json": {
       "model_id": "",
       "version_major": 2,
       "version_minor": 0
      },
      "text/plain": [
       "FloatProgress(value=0.0, bar_style='info', description='Progress:', layout=Layout(height='25px', width='50%'),…"
      ]
     },
     "metadata": {},
     "output_type": "display_data"
    },
    {
     "name": "stdout",
     "output_type": "stream",
     "text": [
      "+-------+-----------+-----------+---+\n",
      "|    _c0|      start|        end| id|\n",
      "+-------+-----------+-----------+---+\n",
      "|5277602|17031411000|17031410100|  0|\n",
      "|5277603|17031411000|17031410100|  1|\n",
      "+-------+-----------+-----------+---+\n",
      "only showing top 2 rows"
     ]
    }
   ],
   "source": [
    "edges.show(2)"
   ]
  },
  {
   "cell_type": "code",
   "execution_count": 28,
   "metadata": {},
   "outputs": [
    {
     "data": {
      "application/vnd.jupyter.widget-view+json": {
       "model_id": "",
       "version_major": 2,
       "version_minor": 0
      },
      "text/plain": [
       "FloatProgress(value=0.0, bar_style='info', description='Progress:', layout=Layout(height='25px', width='50%'),…"
      ]
     },
     "metadata": {},
     "output_type": "display_data"
    }
   ],
   "source": [
    "# rename column names\n",
    "nodes = nodes.withColumnRenamed(\"census_tract_id\", \"id\")\n",
    "edges = edges.withColumnRenamed(\"start\",\"src\")\\\n",
    "             .withColumnRenamed(\"end\",\"dst\")"
   ]
  },
  {
   "cell_type": "code",
   "execution_count": 29,
   "metadata": {},
   "outputs": [
    {
     "data": {
      "application/vnd.jupyter.widget-view+json": {
       "model_id": "",
       "version_major": 2,
       "version_minor": 0
      },
      "text/plain": [
       "FloatProgress(value=0.0, bar_style='info', description='Progress:', layout=Layout(height='25px', width='50%'),…"
      ]
     },
     "metadata": {},
     "output_type": "display_data"
    }
   ],
   "source": [
    "# construct network\n",
    "g = GraphFrame(nodes, edges)"
   ]
  },
  {
   "cell_type": "code",
   "execution_count": 47,
   "metadata": {},
   "outputs": [
    {
     "data": {
      "application/vnd.jupyter.widget-view+json": {
       "model_id": "",
       "version_major": 2,
       "version_minor": 0
      },
      "text/plain": [
       "FloatProgress(value=0.0, bar_style='info', description='Progress:', layout=Layout(height='25px', width='50%'),…"
      ]
     },
     "metadata": {},
     "output_type": "display_data"
    }
   ],
   "source": [
    "# extract features\n",
    "# Degree Centrality\n",
    "degrees = g.degrees\n",
    "# PageRank\n",
    "pagerank = g.pageRank(resetProbability=0.15, tol=0.01)\n",
    "# Clustering Coefficient\n",
    "clustering = g.clusteringCoefficient()"
   ]
  },
  {
   "cell_type": "code",
   "execution_count": 58,
   "metadata": {},
   "outputs": [
    {
     "data": {
      "application/vnd.jupyter.widget-view+json": {
       "model_id": "",
       "version_major": 2,
       "version_minor": 0
      },
      "text/plain": [
       "FloatProgress(value=0.0, bar_style='info', description='Progress:', layout=Layout(height='25px', width='50%'),…"
      ]
     },
     "metadata": {},
     "output_type": "display_data"
    },
    {
     "name": "stdout",
     "output_type": "stream",
     "text": [
      "+-----------+------+\n",
      "|         id|degree|\n",
      "+-----------+------+\n",
      "|17031610800|    55|\n",
      "|17031283800|    22|\n",
      "|17031750500|  1501|\n",
      "+-----------+------+\n",
      "only showing top 3 rows"
     ]
    }
   ],
   "source": [
    "degrees.show(3)"
   ]
  },
  {
   "cell_type": "code",
   "execution_count": 49,
   "metadata": {},
   "outputs": [
    {
     "data": {
      "application/vnd.jupyter.widget-view+json": {
       "model_id": "",
       "version_major": 2,
       "version_minor": 0
      },
      "text/plain": [
       "FloatProgress(value=0.0, bar_style='info', description='Progress:', layout=Layout(height='25px', width='50%'),…"
      ]
     },
     "metadata": {},
     "output_type": "display_data"
    },
    {
     "name": "stdout",
     "output_type": "stream",
     "text": [
      "+-----------+------------------+\n",
      "|         id|          pagerank|\n",
      "+-----------+------------------+\n",
      "|17031836200|44.450858953388995|\n",
      "|17031020801|24.800190689572936|\n",
      "|17031010702|17.631725753784174|\n",
      "|17031251600|17.604504826576633|\n",
      "|17031410700|15.567637593720875|\n",
      "|17031420300|15.135000931894533|\n",
      "|17031010100|14.926536029236091|\n",
      "|17031020302|12.251609580114986|\n",
      "|17031190601|11.587320606492844|\n",
      "|17031020901|10.885711597881127|\n",
      "+-----------+------------------+\n",
      "only showing top 10 rows"
     ]
    }
   ],
   "source": [
    "## top 10 census tracts\n",
    "pagerank.vertices.select(\"id\", \"pagerank\").sort('pagerank', ascending=False).show(10)"
   ]
  },
  {
   "cell_type": "markdown",
   "metadata": {},
   "source": [
    "calculate number of trips from high_income area of each census tract"
   ]
  },
  {
   "cell_type": "code",
   "execution_count": 50,
   "metadata": {},
   "outputs": [
    {
     "data": {
      "application/vnd.jupyter.widget-view+json": {
       "model_id": "",
       "version_major": 2,
       "version_minor": 0
      },
      "text/plain": [
       "FloatProgress(value=0.0, bar_style='info', description='Progress:', layout=Layout(height='25px', width='50%'),…"
      ]
     },
     "metadata": {},
     "output_type": "display_data"
    }
   ],
   "source": [
    "from pyspark.sql.functions import col\n",
    "trips_from_high_income = g.find(\"(a)-[e]->(b)\").filter(col(\"a.income_level\") == \"high\")"
   ]
  },
  {
   "cell_type": "code",
   "execution_count": 51,
   "metadata": {},
   "outputs": [
    {
     "data": {
      "application/vnd.jupyter.widget-view+json": {
       "model_id": "",
       "version_major": 2,
       "version_minor": 0
      },
      "text/plain": [
       "FloatProgress(value=0.0, bar_style='info', description='Progress:', layout=Layout(height='25px', width='50%'),…"
      ]
     },
     "metadata": {},
     "output_type": "display_data"
    },
    {
     "name": "stdout",
     "output_type": "stream",
     "text": [
      "+--------------------+--------------------+--------------------+\n",
      "|                   a|                   e|                   b|\n",
      "+--------------------+--------------------+--------------------+\n",
      "|[200, 17031839200...|[5278328, 1703183...|[404, 17031410100...|\n",
      "|[200, 17031839200...|[5278329, 1703183...|[404, 17031410100...|\n",
      "|[200, 17031839200...|[5278330, 1703183...|[404, 17031410100...|\n",
      "|[200, 17031839200...|[5278331, 1703183...|[404, 17031410100...|\n",
      "|[125, 17031842500...|[5278421, 1703184...|[404, 17031410100...|\n",
      "+--------------------+--------------------+--------------------+\n",
      "only showing top 5 rows"
     ]
    }
   ],
   "source": [
    "trips_from_high_income.show(5)"
   ]
  },
  {
   "cell_type": "code",
   "execution_count": 52,
   "metadata": {},
   "outputs": [
    {
     "data": {
      "application/vnd.jupyter.widget-view+json": {
       "model_id": "",
       "version_major": 2,
       "version_minor": 0
      },
      "text/plain": [
       "FloatProgress(value=0.0, bar_style='info', description='Progress:', layout=Layout(height='25px', width='50%'),…"
      ]
     },
     "metadata": {},
     "output_type": "display_data"
    }
   ],
   "source": [
    "high_income_edges = trips_from_high_income.select(trips_from_high_income.a.id.alias(\"src\"), trips_from_high_income.b.id.alias(\"dst\"))\n"
   ]
  },
  {
   "cell_type": "code",
   "execution_count": 55,
   "metadata": {},
   "outputs": [
    {
     "data": {
      "application/vnd.jupyter.widget-view+json": {
       "model_id": "",
       "version_major": 2,
       "version_minor": 0
      },
      "text/plain": [
       "FloatProgress(value=0.0, bar_style='info', description='Progress:', layout=Layout(height='25px', width='50%'),…"
      ]
     },
     "metadata": {},
     "output_type": "display_data"
    },
    {
     "name": "stdout",
     "output_type": "stream",
     "text": [
      "+-----------+-----------+\n",
      "|        src|        dst|\n",
      "+-----------+-----------+\n",
      "|17031839200|17031410100|\n",
      "|17031839200|17031410100|\n",
      "|17031839200|17031410100|\n",
      "|17031839200|17031410100|\n",
      "|17031842500|17031410100|\n",
      "+-----------+-----------+\n",
      "only showing top 5 rows"
     ]
    }
   ],
   "source": [
    "high_income_edges.show(5)"
   ]
  },
  {
   "cell_type": "code",
   "execution_count": 56,
   "metadata": {},
   "outputs": [
    {
     "data": {
      "application/vnd.jupyter.widget-view+json": {
       "model_id": "",
       "version_major": 2,
       "version_minor": 0
      },
      "text/plain": [
       "FloatProgress(value=0.0, bar_style='info', description='Progress:', layout=Layout(height='25px', width='50%'),…"
      ]
     },
     "metadata": {},
     "output_type": "display_data"
    }
   ],
   "source": [
    "## construct a sub network with only edges from high-income area\n",
    "g_high_income = GraphFrame(nodes, high_income_edges)"
   ]
  },
  {
   "cell_type": "code",
   "execution_count": 60,
   "metadata": {},
   "outputs": [
    {
     "data": {
      "application/vnd.jupyter.widget-view+json": {
       "model_id": "",
       "version_major": 2,
       "version_minor": 0
      },
      "text/plain": [
       "FloatProgress(value=0.0, bar_style='info', description='Progress:', layout=Layout(height='25px', width='50%'),…"
      ]
     },
     "metadata": {},
     "output_type": "display_data"
    }
   ],
   "source": [
    "# generate degrees of each node within sub network\n",
    "links_to_high_income = g_high_income.degrees"
   ]
  },
  {
   "cell_type": "code",
   "execution_count": 66,
   "metadata": {},
   "outputs": [
    {
     "data": {
      "application/vnd.jupyter.widget-view+json": {
       "model_id": "",
       "version_major": 2,
       "version_minor": 0
      },
      "text/plain": [
       "FloatProgress(value=0.0, bar_style='info', description='Progress:', layout=Layout(height='25px', width='50%'),…"
      ]
     },
     "metadata": {},
     "output_type": "display_data"
    }
   ],
   "source": [
    "links_to_high_income = links_to_high_income.withColumnRenamed(\"degree\", \"links_to_high_income\")"
   ]
  },
  {
   "cell_type": "code",
   "execution_count": 72,
   "metadata": {},
   "outputs": [
    {
     "data": {
      "application/vnd.jupyter.widget-view+json": {
       "model_id": "",
       "version_major": 2,
       "version_minor": 0
      },
      "text/plain": [
       "FloatProgress(value=0.0, bar_style='info', description='Progress:', layout=Layout(height='25px', width='50%'),…"
      ]
     },
     "metadata": {},
     "output_type": "display_data"
    },
    {
     "name": "stdout",
     "output_type": "stream",
     "text": [
      "+-----------+--------------------+\n",
      "|         id|links_to_high_income|\n",
      "+-----------+--------------------+\n",
      "|17031460100|                1103|\n",
      "|17031670400|                  48|\n",
      "|17031510300|                1236|\n",
      "|17031020902|                 397|\n",
      "|17031530100|                 234|\n",
      "+-----------+--------------------+\n",
      "only showing top 5 rows"
     ]
    }
   ],
   "source": [
    "links_to_high_income.show(5)"
   ]
  },
  {
   "cell_type": "markdown",
   "metadata": {},
   "source": [
    "generate features of nodes"
   ]
  },
  {
   "cell_type": "code",
   "execution_count": 78,
   "metadata": {},
   "outputs": [
    {
     "data": {
      "application/vnd.jupyter.widget-view+json": {
       "model_id": "",
       "version_major": 2,
       "version_minor": 0
      },
      "text/plain": [
       "FloatProgress(value=0.0, bar_style='info', description='Progress:', layout=Layout(height='25px', width='50%'),…"
      ]
     },
     "metadata": {},
     "output_type": "display_data"
    }
   ],
   "source": [
    "# Join the statistics together\n",
    "node_statistics = degrees.join(pagerank.vertices, \"id\", \"left\") \\\n",
    "    .join(clustering, \"id\", \"left\")\n",
    "    .join(links_to_high_income, \"id\", \"left\")"
   ]
  },
  {
   "cell_type": "code",
   "execution_count": 81,
   "metadata": {
    "scrolled": true
   },
   "outputs": [
    {
     "data": {
      "application/vnd.jupyter.widget-view+json": {
       "model_id": "",
       "version_major": 2,
       "version_minor": 0
      },
      "text/plain": [
       "FloatProgress(value=0.0, bar_style='info', description='Progress:', layout=Layout(height='25px', width='50%'),…"
      ]
     },
     "metadata": {},
     "output_type": "display_data"
    }
   ],
   "source": [
    "node_statistics.repartition(1).write.format(\"csv\").\\\n",
    "        option(\"header\", \"true\").mode(\"overwrite\").\\\n",
    "        save(\"s3://a3q2aiwenbucket/jupyter/jovyan/node_statistics.csv\")\n"
   ]
  }
 ],
 "metadata": {
  "kernelspec": {
   "display_name": "Python 3.9.12 ('base')",
   "language": "python",
   "name": "python3"
  },
  "language_info": {
   "codemirror_mode": {
    "name": "ipython",
    "version": 3
   },
   "file_extension": ".py",
   "mimetype": "text/x-python",
   "name": "python",
   "nbconvert_exporter": "python",
   "pygments_lexer": "ipython3",
   "version": "3.9.12"
  },
  "vscode": {
   "interpreter": {
    "hash": "91b07395aba9a57da6011e6ac6e49368a9538b86e222ae3ca3786dff42caf6f2"
   }
  }
 },
 "nbformat": 4,
 "nbformat_minor": 4
}
